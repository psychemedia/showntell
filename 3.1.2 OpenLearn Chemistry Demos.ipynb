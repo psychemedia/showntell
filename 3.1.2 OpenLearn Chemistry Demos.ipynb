{
  "cells": [
    {
      "metadata": {
        "collapsed": true
      },
      "cell_type": "markdown",
      "source": "# Examples Based on OpenLearn Chemistry Units\n\n\n\nFor example:\n\n- http://www.open.edu/openlearn/science-maths-technology/science/chemistry/the-molecular-world/content-section-4.5\n- http://www.open.edu/openlearn/science-maths-technology/biology/nutrition-proteins/content-section-1.4\n- http://www.open.edu/openlearn/science-maths-technology/science/chemistry/introduction-polymers/content-section-3.2.1\n- http://www.open.edu/openlearn/science-maths-technology/science/chemistry/introduction-polymers/content-section-5.4\n- http://www.open.edu/openlearn/science-maths-technology/science/chemistry/introduction-polymers/content-section-5.6.3\n- http://www.open.edu/openlearn/science-maths-technology/science/chemistry/introduction-polymers/content-section-6.4.1\n\nTo get the full benefit of the examples, whcih demonstrate embedded 3D molecular models among other things, you will need to run the cells of this notebook in a live Jupyter notebook environment."
    },
    {
      "metadata": {
        "trusted": false
      },
      "cell_type": "code",
      "source": "%%capture\ntry:\n    import pybel\nexcept:\n    !conda install -y -c openbabel openbabel\n    \ntry: \n    import py3Dmol\nexcept:\n    !pip install py3Dmol\n    \ntry:\n    import pubchempy as pcp\nexcept:   \n    !pip install pubchempy",
      "execution_count": null,
      "outputs": []
    },
    {
      "metadata": {
        "trusted": false
      },
      "cell_type": "code",
      "source": "import pybel\nimport py3Dmol\nimport pubchempy as pcp",
      "execution_count": 2,
      "outputs": []
    },
    {
      "metadata": {},
      "cell_type": "markdown",
      "source": "Run this markdown cell to import `mhchem` MathJax/markdown extension...\n$$\\require{mhchem}$$"
    },
    {
      "metadata": {},
      "cell_type": "markdown",
      "source": "## Example\n\nhttp://www.open.edu/openlearn/science-maths-technology/science/chemistry/the-molecular-world/content-section-6.1\n    "
    },
    {
      "metadata": {},
      "cell_type": "markdown",
      "source": "### Molecular shape affects molecular reactivity\n#### Introduction\nStructural formulae of, for example, hexan-1-ol (Structure 6.1) and PF5 (Structure 5.13) merely tell us the immediate neighbours of any particular atom. They are two-dimensional drawings, which ignore the three-dimensional shapes of the molecules. But in studying the structures obtained by X-ray crystallography in Section 1, we recognised that the atoms in a substance have a definite three-dimensional arrangement in space. In other words, molecules have a definite shape and size. Those shapes and sizes are often a key to the understanding of chemical reactions.\n\nLet us start with methane, $\\ce{CH4}$, and bromomethane, $\\ce{CH3Br}$. In both molecules, the carbon atoms form four single bonds. It turns out that the four bonds are directed towards the corners of a tetrahedron. The resulting molecular shapes are shown in the figure as ball-and-stick representations."
    },
    {
      "metadata": {
        "trusted": false
      },
      "cell_type": "code",
      "source": "bromomethane=pcp.get_compounds('bromomethane', 'name')[0]\n#bromomethane.canonical_smiles\n\n\nx=py3Dmol.view(query='cid:{}'.format(bromomethane.cid), width=300,height=300).setStyle({'stick': {'radius': .1}, \n                                                                                        'sphere': {'scale': 0.25}})\nx",
      "execution_count": 3,
      "outputs": [
        {
          "data": {
            "application/3dmoljs_load.v0": "<div id=\"3dmolviewer_1534239749856078\"  style=\"position: relative; width: 300px; height: 300px\">\n        <p id=\"3dmolwarning_1534239749856078\" style=\"background-color:#ffcccc;color:black\">You appear to be running in JupyterLab.  You need to install the 3dmol extension: <br>\n        <tt>jupyter labextension install jupyterlab_3dmol</tt></p>\n        </div>\n<script>\n\nvar loadScriptAsync = function(uri){\n  return new Promise((resolve, reject) => {\n    var tag = document.createElement('script');\n    tag.src = uri;\n    tag.async = true;\n    tag.onload = () => {\n      resolve();\n    };\n  var firstScriptTag = document.getElementsByTagName('script')[0];\n  firstScriptTag.parentNode.insertBefore(tag, firstScriptTag);\n});\n};\n\nif(typeof $3Dmolpromise === 'undefined') {\n$3Dmolpromise = null;\n  $3Dmolpromise = loadScriptAsync('https://3dmol.csb.pitt.edu/build/3Dmol.js');\n}\n\nvar viewer_1534239749856078 = null;\nvar warn = document.getElementById(\"3dmolwarning_1534239749856078\");\nif(warn) {\n    warn.parentNode.removeChild(warn);\n}\n$3Dmolpromise.then(function() {\nviewer_1534239749856078 = $3Dmol.createViewer($(\"#3dmolviewer_1534239749856078\"),{backgroundColor:\"white\"});\n$3Dmol.download(\"cid:6323\", viewer_1534239749856078, {}, function() {\n\tviewer_1534239749856078.setStyle({\"sphere\": {\"scale\": 0.25}, \"stick\": {\"radius\": 0.1}});\nviewer_1534239749856078.render();\n})\n});\n</script>",
            "text/html": "<div id=\"3dmolviewer_1534239749856078\"  style=\"position: relative; width: 300px; height: 300px\">\n        <p id=\"3dmolwarning_1534239749856078\" style=\"background-color:#ffcccc;color:black\">You appear to be running in JupyterLab.  You need to install the 3dmol extension: <br>\n        <tt>jupyter labextension install jupyterlab_3dmol</tt></p>\n        </div>\n<script>\n\nvar loadScriptAsync = function(uri){\n  return new Promise((resolve, reject) => {\n    var tag = document.createElement('script');\n    tag.src = uri;\n    tag.async = true;\n    tag.onload = () => {\n      resolve();\n    };\n  var firstScriptTag = document.getElementsByTagName('script')[0];\n  firstScriptTag.parentNode.insertBefore(tag, firstScriptTag);\n});\n};\n\nif(typeof $3Dmolpromise === 'undefined') {\n$3Dmolpromise = null;\n  $3Dmolpromise = loadScriptAsync('https://3dmol.csb.pitt.edu/build/3Dmol.js');\n}\n\nvar viewer_1534239749856078 = null;\nvar warn = document.getElementById(\"3dmolwarning_1534239749856078\");\nif(warn) {\n    warn.parentNode.removeChild(warn);\n}\n$3Dmolpromise.then(function() {\nviewer_1534239749856078 = $3Dmol.createViewer($(\"#3dmolviewer_1534239749856078\"),{backgroundColor:\"white\"});\n$3Dmol.download(\"cid:6323\", viewer_1534239749856078, {}, function() {\n\tviewer_1534239749856078.setStyle({\"sphere\": {\"scale\": 0.25}, \"stick\": {\"radius\": 0.1}});\nviewer_1534239749856078.render();\n})\n});\n</script>"
          },
          "metadata": {},
          "output_type": "display_data"
        },
        {
          "data": {
            "text/plain": "<py3Dmol.view at 0x7f038938e3c8>"
          },
          "execution_count": 3,
          "metadata": {},
          "output_type": "execute_result"
        }
      ]
    },
    {
      "metadata": {},
      "cell_type": "markdown",
      "source": "The molecule bromomethane, $\\ce{CH3Br}$, shown in both ball-and-stick (figure above) and space-filling representations (figure below). "
    },
    {
      "metadata": {
        "trusted": false
      },
      "cell_type": "code",
      "source": "py3Dmol.view(query='cid:{}'.format(bromomethane.cid), width=300,height=300).setStyle({ 'sphere': {'scale': 1}})\n",
      "execution_count": 145,
      "outputs": [
        {
          "data": {
            "application/3dmoljs_load.v0": "<div id=\"3dmolviewer_15341684064031765\"  style=\"position: relative; width: 300px; height: 300px\">\n        <p id=\"3dmolwarning_15341684064031765\" style=\"background-color:#ffcccc;color:black\">You appear to be running in JupyterLab.  You need to install the 3dmol extension: <br>\n        <tt>jupyter labextension install jupyterlab_3dmol</tt></p>\n        </div>\n<script>\n\nvar loadScriptAsync = function(uri){\n  return new Promise((resolve, reject) => {\n    var tag = document.createElement('script');\n    tag.src = uri;\n    tag.async = true;\n    tag.onload = () => {\n      resolve();\n    };\n  var firstScriptTag = document.getElementsByTagName('script')[0];\n  firstScriptTag.parentNode.insertBefore(tag, firstScriptTag);\n});\n};\n\nif(typeof $3Dmolpromise === 'undefined') {\n$3Dmolpromise = null;\n  $3Dmolpromise = loadScriptAsync('https://3dmol.csb.pitt.edu/build/3Dmol.js');\n}\n\nvar viewer_15341684064031765 = null;\nvar warn = document.getElementById(\"3dmolwarning_15341684064031765\");\nif(warn) {\n    warn.parentNode.removeChild(warn);\n}\n$3Dmolpromise.then(function() {\nviewer_15341684064031765 = $3Dmol.createViewer($(\"#3dmolviewer_15341684064031765\"),{backgroundColor:\"white\"});\n$3Dmol.download(\"cid:6323\", viewer_15341684064031765, {}, function() {\n\tviewer_15341684064031765.setStyle({\"sphere\": {\"scale\": 1}});\nviewer_15341684064031765.render();\n})\n});\n</script>",
            "text/html": "<div id=\"3dmolviewer_15341684064031765\"  style=\"position: relative; width: 300px; height: 300px\">\n        <p id=\"3dmolwarning_15341684064031765\" style=\"background-color:#ffcccc;color:black\">You appear to be running in JupyterLab.  You need to install the 3dmol extension: <br>\n        <tt>jupyter labextension install jupyterlab_3dmol</tt></p>\n        </div>\n<script>\n\nvar loadScriptAsync = function(uri){\n  return new Promise((resolve, reject) => {\n    var tag = document.createElement('script');\n    tag.src = uri;\n    tag.async = true;\n    tag.onload = () => {\n      resolve();\n    };\n  var firstScriptTag = document.getElementsByTagName('script')[0];\n  firstScriptTag.parentNode.insertBefore(tag, firstScriptTag);\n});\n};\n\nif(typeof $3Dmolpromise === 'undefined') {\n$3Dmolpromise = null;\n  $3Dmolpromise = loadScriptAsync('https://3dmol.csb.pitt.edu/build/3Dmol.js');\n}\n\nvar viewer_15341684064031765 = null;\nvar warn = document.getElementById(\"3dmolwarning_15341684064031765\");\nif(warn) {\n    warn.parentNode.removeChild(warn);\n}\n$3Dmolpromise.then(function() {\nviewer_15341684064031765 = $3Dmol.createViewer($(\"#3dmolviewer_15341684064031765\"),{backgroundColor:\"white\"});\n$3Dmol.download(\"cid:6323\", viewer_15341684064031765, {}, function() {\n\tviewer_15341684064031765.setStyle({\"sphere\": {\"scale\": 1}});\nviewer_15341684064031765.render();\n})\n});\n</script>"
          },
          "metadata": {},
          "output_type": "display_data"
        },
        {
          "data": {
            "text/plain": "<py3Dmol.view at 0x7f5fcab094a8>"
          },
          "execution_count": 145,
          "metadata": {},
          "output_type": "execute_result"
        }
      ]
    },
    {
      "metadata": {},
      "cell_type": "markdown",
      "source": "Ball-and-stick representations are a natural three-dimensional development of structural formulae, and they show the disposition of the atoms in space. But by emphasising the bonds, they fail to reveal the subtleties of the molecular shape created by the different sizes of atoms. In this respect, space-filling models are better."
    },
    {
      "metadata": {},
      "cell_type": "markdown",
      "source": "We now take bromomethane and successively replace each hydrogen atom by a methyl group, $\\ce{CH3}$, to give the molecules $\\ce{CH3CH2Br}$, [then] $\\ce{(CH3)2CHBr}$ and finally $\\ce{(CH3)3CBr}$. Ball-and-stick representations of each of these molecules are shown in the figures below. At each carbon atom, there are four bonds directed towards the corners of a tetrahedron, and the complexity of the molecular shape therefore increases from left to right, as the number of carbon atoms increases from one to four."
    },
    {
      "metadata": {
        "trusted": false
      },
      "cell_type": "code",
      "source": "x=pcp.get_compounds('CCBr', 'smiles')[0]\npy3Dmol.view(query='cid:{}'.format(x.cid), width=300,height=300).setStyle({'stick': {'radius': .1}, 'sphere': {'scale': 0.25}})\n",
      "execution_count": 146,
      "outputs": [
        {
          "data": {
            "application/3dmoljs_load.v0": "<div id=\"3dmolviewer_15341684210970576\"  style=\"position: relative; width: 300px; height: 300px\">\n        <p id=\"3dmolwarning_15341684210970576\" style=\"background-color:#ffcccc;color:black\">You appear to be running in JupyterLab.  You need to install the 3dmol extension: <br>\n        <tt>jupyter labextension install jupyterlab_3dmol</tt></p>\n        </div>\n<script>\n\nvar loadScriptAsync = function(uri){\n  return new Promise((resolve, reject) => {\n    var tag = document.createElement('script');\n    tag.src = uri;\n    tag.async = true;\n    tag.onload = () => {\n      resolve();\n    };\n  var firstScriptTag = document.getElementsByTagName('script')[0];\n  firstScriptTag.parentNode.insertBefore(tag, firstScriptTag);\n});\n};\n\nif(typeof $3Dmolpromise === 'undefined') {\n$3Dmolpromise = null;\n  $3Dmolpromise = loadScriptAsync('https://3dmol.csb.pitt.edu/build/3Dmol.js');\n}\n\nvar viewer_15341684210970576 = null;\nvar warn = document.getElementById(\"3dmolwarning_15341684210970576\");\nif(warn) {\n    warn.parentNode.removeChild(warn);\n}\n$3Dmolpromise.then(function() {\nviewer_15341684210970576 = $3Dmol.createViewer($(\"#3dmolviewer_15341684210970576\"),{backgroundColor:\"white\"});\n$3Dmol.download(\"cid:6332\", viewer_15341684210970576, {}, function() {\n\tviewer_15341684210970576.setStyle({\"sphere\": {\"scale\": 0.25}, \"stick\": {\"radius\": 0.1}});\nviewer_15341684210970576.render();\n})\n});\n</script>",
            "text/html": "<div id=\"3dmolviewer_15341684210970576\"  style=\"position: relative; width: 300px; height: 300px\">\n        <p id=\"3dmolwarning_15341684210970576\" style=\"background-color:#ffcccc;color:black\">You appear to be running in JupyterLab.  You need to install the 3dmol extension: <br>\n        <tt>jupyter labextension install jupyterlab_3dmol</tt></p>\n        </div>\n<script>\n\nvar loadScriptAsync = function(uri){\n  return new Promise((resolve, reject) => {\n    var tag = document.createElement('script');\n    tag.src = uri;\n    tag.async = true;\n    tag.onload = () => {\n      resolve();\n    };\n  var firstScriptTag = document.getElementsByTagName('script')[0];\n  firstScriptTag.parentNode.insertBefore(tag, firstScriptTag);\n});\n};\n\nif(typeof $3Dmolpromise === 'undefined') {\n$3Dmolpromise = null;\n  $3Dmolpromise = loadScriptAsync('https://3dmol.csb.pitt.edu/build/3Dmol.js');\n}\n\nvar viewer_15341684210970576 = null;\nvar warn = document.getElementById(\"3dmolwarning_15341684210970576\");\nif(warn) {\n    warn.parentNode.removeChild(warn);\n}\n$3Dmolpromise.then(function() {\nviewer_15341684210970576 = $3Dmol.createViewer($(\"#3dmolviewer_15341684210970576\"),{backgroundColor:\"white\"});\n$3Dmol.download(\"cid:6332\", viewer_15341684210970576, {}, function() {\n\tviewer_15341684210970576.setStyle({\"sphere\": {\"scale\": 0.25}, \"stick\": {\"radius\": 0.1}});\nviewer_15341684210970576.render();\n})\n});\n</script>"
          },
          "metadata": {},
          "output_type": "display_data"
        },
        {
          "data": {
            "text/plain": "<py3Dmol.view at 0x7f5fcae73e10>"
          },
          "execution_count": 146,
          "metadata": {},
          "output_type": "execute_result"
        }
      ]
    },
    {
      "metadata": {},
      "cell_type": "markdown",
      "source": "The molecule bromoethane, $\\ce{CH3CH2Br}$, shown in both ball-and-stick (figure above) and space-filling representations (figure below). "
    },
    {
      "metadata": {
        "trusted": false
      },
      "cell_type": "code",
      "source": "py3Dmol.view(query='cid:{}'.format(x.cid), width=300,height=300).setStyle({'sphere': {'scale': 1}})\n",
      "execution_count": 147,
      "outputs": [
        {
          "data": {
            "application/3dmoljs_load.v0": "<div id=\"3dmolviewer_15341684211104994\"  style=\"position: relative; width: 300px; height: 300px\">\n        <p id=\"3dmolwarning_15341684211104994\" style=\"background-color:#ffcccc;color:black\">You appear to be running in JupyterLab.  You need to install the 3dmol extension: <br>\n        <tt>jupyter labextension install jupyterlab_3dmol</tt></p>\n        </div>\n<script>\n\nvar loadScriptAsync = function(uri){\n  return new Promise((resolve, reject) => {\n    var tag = document.createElement('script');\n    tag.src = uri;\n    tag.async = true;\n    tag.onload = () => {\n      resolve();\n    };\n  var firstScriptTag = document.getElementsByTagName('script')[0];\n  firstScriptTag.parentNode.insertBefore(tag, firstScriptTag);\n});\n};\n\nif(typeof $3Dmolpromise === 'undefined') {\n$3Dmolpromise = null;\n  $3Dmolpromise = loadScriptAsync('https://3dmol.csb.pitt.edu/build/3Dmol.js');\n}\n\nvar viewer_15341684211104994 = null;\nvar warn = document.getElementById(\"3dmolwarning_15341684211104994\");\nif(warn) {\n    warn.parentNode.removeChild(warn);\n}\n$3Dmolpromise.then(function() {\nviewer_15341684211104994 = $3Dmol.createViewer($(\"#3dmolviewer_15341684211104994\"),{backgroundColor:\"white\"});\n$3Dmol.download(\"cid:6332\", viewer_15341684211104994, {}, function() {\n\tviewer_15341684211104994.setStyle({\"sphere\": {\"scale\": 1}});\nviewer_15341684211104994.render();\n})\n});\n</script>",
            "text/html": "<div id=\"3dmolviewer_15341684211104994\"  style=\"position: relative; width: 300px; height: 300px\">\n        <p id=\"3dmolwarning_15341684211104994\" style=\"background-color:#ffcccc;color:black\">You appear to be running in JupyterLab.  You need to install the 3dmol extension: <br>\n        <tt>jupyter labextension install jupyterlab_3dmol</tt></p>\n        </div>\n<script>\n\nvar loadScriptAsync = function(uri){\n  return new Promise((resolve, reject) => {\n    var tag = document.createElement('script');\n    tag.src = uri;\n    tag.async = true;\n    tag.onload = () => {\n      resolve();\n    };\n  var firstScriptTag = document.getElementsByTagName('script')[0];\n  firstScriptTag.parentNode.insertBefore(tag, firstScriptTag);\n});\n};\n\nif(typeof $3Dmolpromise === 'undefined') {\n$3Dmolpromise = null;\n  $3Dmolpromise = loadScriptAsync('https://3dmol.csb.pitt.edu/build/3Dmol.js');\n}\n\nvar viewer_15341684211104994 = null;\nvar warn = document.getElementById(\"3dmolwarning_15341684211104994\");\nif(warn) {\n    warn.parentNode.removeChild(warn);\n}\n$3Dmolpromise.then(function() {\nviewer_15341684211104994 = $3Dmol.createViewer($(\"#3dmolviewer_15341684211104994\"),{backgroundColor:\"white\"});\n$3Dmol.download(\"cid:6332\", viewer_15341684211104994, {}, function() {\n\tviewer_15341684211104994.setStyle({\"sphere\": {\"scale\": 1}});\nviewer_15341684211104994.render();\n})\n});\n</script>"
          },
          "metadata": {},
          "output_type": "display_data"
        },
        {
          "data": {
            "text/plain": "<py3Dmol.view at 0x7f5fcab09ba8>"
          },
          "execution_count": 147,
          "metadata": {},
          "output_type": "execute_result"
        }
      ]
    },
    {
      "metadata": {
        "trusted": false
      },
      "cell_type": "code",
      "source": "m=pybel.readstring( \"smi\",\"CC(Br)C\" )\nm.addh()\nm",
      "execution_count": 165,
      "outputs": [
        {
          "data": {
            "image/svg+xml": "<svg xmlns=\"http://www.w3.org/2000/svg\" font-family=\"sans-serif\" height=\"100\" stroke=\"rgb(0,0,0)\" stroke-linecap=\"round\" stroke-width=\"2\" viewBox=\"0 0 214.641 194.641\" width=\"100\" x=\"0\" y=\"0\">\n<line stroke=\"rgb(0,0,0)\" stroke-width=\"2.0\" x1=\"134.6\" x2=\"114.6\" y1=\"80.0\" y2=\"114.6\" />\n<line stroke=\"rgb(0,0,0)\" stroke-width=\"2.0\" x1=\"114.6\" x2=\"114.6\" y1=\"114.6\" y2=\"141.6\" />\n<line stroke=\"rgb(0,0,0)\" stroke-width=\"2.0\" x1=\"114.6\" x2=\"74.6\" y1=\"114.6\" y2=\"114.6\" />\n<line stroke=\"rgb(0,0,0)\" stroke-width=\"2.0\" x1=\"134.6\" x2=\"134.6\" y1=\"80.0\" y2=\"53.0\" />\n<line stroke=\"rgb(0,0,0)\" stroke-width=\"2.0\" x1=\"134.6\" x2=\"111.3\" y1=\"80.0\" y2=\"66.5\" />\n<line stroke=\"rgb(0,0,0)\" stroke-width=\"2.0\" x1=\"134.6\" x2=\"161.6\" y1=\"80.0\" y2=\"80.0\" />\n<line stroke=\"rgb(0,0,0)\" stroke-width=\"2.0\" x1=\"114.6\" x2=\"138.0\" y1=\"114.6\" y2=\"128.1\" />\n<line stroke=\"rgb(0,0,0)\" stroke-width=\"2.0\" x1=\"74.6\" x2=\"51.3\" y1=\"114.6\" y2=\"128.1\" />\n<line stroke=\"rgb(0,0,0)\" stroke-width=\"2.0\" x1=\"74.6\" x2=\"74.6\" y1=\"114.6\" y2=\"141.6\" />\n<line stroke=\"rgb(0,0,0)\" stroke-width=\"2.0\" x1=\"74.6\" x2=\"61.1\" y1=\"114.6\" y2=\"91.3\" />\n<text fill=\"rgb(165,40,40)\" font-size=\"16\" stroke=\"rgb(165,40,40)\" stroke-width=\"1\" x=\"108.641016\" y=\"162.641016\">Br</text>\n<text fill=\"rgb(191,191,191)\" font-size=\"16\" stroke=\"rgb(191,191,191)\" stroke-width=\"1\" x=\"128.641016\" y=\"48.000000\">H</text>\n<text fill=\"rgb(191,191,191)\" font-size=\"16\" stroke=\"rgb(191,191,191)\" stroke-width=\"1\" x=\"94.000000\" y=\"68.000000\">H</text>\n<text fill=\"rgb(191,191,191)\" font-size=\"16\" stroke=\"rgb(191,191,191)\" stroke-width=\"1\" x=\"168.641016\" y=\"88.000000\">H</text>\n<text fill=\"rgb(191,191,191)\" font-size=\"16\" stroke=\"rgb(191,191,191)\" stroke-width=\"1\" x=\"143.282032\" y=\"142.641016\">H</text>\n<text fill=\"rgb(191,191,191)\" font-size=\"16\" stroke=\"rgb(191,191,191)\" stroke-width=\"1\" x=\"34.000000\" y=\"142.641016\">H</text>\n<text fill=\"rgb(191,191,191)\" font-size=\"16\" stroke=\"rgb(191,191,191)\" stroke-width=\"1\" x=\"68.641016\" y=\"162.641016\">H</text>\n<text fill=\"rgb(191,191,191)\" font-size=\"16\" stroke=\"rgb(191,191,191)\" stroke-width=\"1\" x=\"48.641016\" y=\"88.000000\">H</text>\n</svg>\n",
            "text/plain": "<pybel.Molecule at 0x7f5fcae67ac8>"
          },
          "execution_count": 165,
          "metadata": {},
          "output_type": "execute_result"
        }
      ]
    },
    {
      "metadata": {
        "trusted": false
      },
      "cell_type": "code",
      "source": "x=pcp.get_compounds('CC(Br)C', 'smiles')[0]\npy3Dmol.view(query='cid:{}'.format(x.cid), width=300,height=300).setStyle({'stick': {'radius': .1}, 'sphere': {'scale': 0.25}})\n",
      "execution_count": 169,
      "outputs": [
        {
          "data": {
            "application/3dmoljs_load.v0": "<div id=\"3dmolviewer_1534169508053315\"  style=\"position: relative; width: 300px; height: 300px\">\n        <p id=\"3dmolwarning_1534169508053315\" style=\"background-color:#ffcccc;color:black\">You appear to be running in JupyterLab.  You need to install the 3dmol extension: <br>\n        <tt>jupyter labextension install jupyterlab_3dmol</tt></p>\n        </div>\n<script>\n\nvar loadScriptAsync = function(uri){\n  return new Promise((resolve, reject) => {\n    var tag = document.createElement('script');\n    tag.src = uri;\n    tag.async = true;\n    tag.onload = () => {\n      resolve();\n    };\n  var firstScriptTag = document.getElementsByTagName('script')[0];\n  firstScriptTag.parentNode.insertBefore(tag, firstScriptTag);\n});\n};\n\nif(typeof $3Dmolpromise === 'undefined') {\n$3Dmolpromise = null;\n  $3Dmolpromise = loadScriptAsync('https://3dmol.csb.pitt.edu/build/3Dmol.js');\n}\n\nvar viewer_1534169508053315 = null;\nvar warn = document.getElementById(\"3dmolwarning_1534169508053315\");\nif(warn) {\n    warn.parentNode.removeChild(warn);\n}\n$3Dmolpromise.then(function() {\nviewer_1534169508053315 = $3Dmol.createViewer($(\"#3dmolviewer_1534169508053315\"),{backgroundColor:\"white\"});\n$3Dmol.download(\"cid:6358\", viewer_1534169508053315, {}, function() {\n\tviewer_1534169508053315.setStyle({\"sphere\": {\"scale\": 0.25}, \"stick\": {\"radius\": 0.1}});\nviewer_1534169508053315.render();\n})\n});\n</script>",
            "text/html": "<div id=\"3dmolviewer_1534169508053315\"  style=\"position: relative; width: 300px; height: 300px\">\n        <p id=\"3dmolwarning_1534169508053315\" style=\"background-color:#ffcccc;color:black\">You appear to be running in JupyterLab.  You need to install the 3dmol extension: <br>\n        <tt>jupyter labextension install jupyterlab_3dmol</tt></p>\n        </div>\n<script>\n\nvar loadScriptAsync = function(uri){\n  return new Promise((resolve, reject) => {\n    var tag = document.createElement('script');\n    tag.src = uri;\n    tag.async = true;\n    tag.onload = () => {\n      resolve();\n    };\n  var firstScriptTag = document.getElementsByTagName('script')[0];\n  firstScriptTag.parentNode.insertBefore(tag, firstScriptTag);\n});\n};\n\nif(typeof $3Dmolpromise === 'undefined') {\n$3Dmolpromise = null;\n  $3Dmolpromise = loadScriptAsync('https://3dmol.csb.pitt.edu/build/3Dmol.js');\n}\n\nvar viewer_1534169508053315 = null;\nvar warn = document.getElementById(\"3dmolwarning_1534169508053315\");\nif(warn) {\n    warn.parentNode.removeChild(warn);\n}\n$3Dmolpromise.then(function() {\nviewer_1534169508053315 = $3Dmol.createViewer($(\"#3dmolviewer_1534169508053315\"),{backgroundColor:\"white\"});\n$3Dmol.download(\"cid:6358\", viewer_1534169508053315, {}, function() {\n\tviewer_1534169508053315.setStyle({\"sphere\": {\"scale\": 0.25}, \"stick\": {\"radius\": 0.1}});\nviewer_1534169508053315.render();\n})\n});\n</script>"
          },
          "metadata": {},
          "output_type": "display_data"
        },
        {
          "data": {
            "text/plain": "<py3Dmol.view at 0x7f5fcae67f98>"
          },
          "execution_count": 169,
          "metadata": {},
          "output_type": "execute_result"
        }
      ]
    },
    {
      "metadata": {
        "trusted": false
      },
      "cell_type": "code",
      "source": "#Get the most common synomym - the chemical name\nx.synonyms[0]",
      "execution_count": 172,
      "outputs": [
        {
          "data": {
            "text/plain": "'2-Bromopropane'"
          },
          "execution_count": 172,
          "metadata": {},
          "output_type": "execute_result"
        }
      ]
    },
    {
      "metadata": {},
      "cell_type": "markdown",
      "source": "The molecule 2-bromopropane, $\\ce{(CH3)2CHBr}$ , shown in both ball-and-stick (figure above) and space-filling representations (figure below). "
    },
    {
      "metadata": {
        "trusted": false
      },
      "cell_type": "code",
      "source": "py3Dmol.view(query='cid:{}'.format(x.cid), width=300,height=300).setStyle({'sphere': {'scale': 1}})\n",
      "execution_count": 150,
      "outputs": [
        {
          "data": {
            "application/3dmoljs_load.v0": "<div id=\"3dmolviewer_15341684397609963\"  style=\"position: relative; width: 300px; height: 300px\">\n        <p id=\"3dmolwarning_15341684397609963\" style=\"background-color:#ffcccc;color:black\">You appear to be running in JupyterLab.  You need to install the 3dmol extension: <br>\n        <tt>jupyter labextension install jupyterlab_3dmol</tt></p>\n        </div>\n<script>\n\nvar loadScriptAsync = function(uri){\n  return new Promise((resolve, reject) => {\n    var tag = document.createElement('script');\n    tag.src = uri;\n    tag.async = true;\n    tag.onload = () => {\n      resolve();\n    };\n  var firstScriptTag = document.getElementsByTagName('script')[0];\n  firstScriptTag.parentNode.insertBefore(tag, firstScriptTag);\n});\n};\n\nif(typeof $3Dmolpromise === 'undefined') {\n$3Dmolpromise = null;\n  $3Dmolpromise = loadScriptAsync('https://3dmol.csb.pitt.edu/build/3Dmol.js');\n}\n\nvar viewer_15341684397609963 = null;\nvar warn = document.getElementById(\"3dmolwarning_15341684397609963\");\nif(warn) {\n    warn.parentNode.removeChild(warn);\n}\n$3Dmolpromise.then(function() {\nviewer_15341684397609963 = $3Dmol.createViewer($(\"#3dmolviewer_15341684397609963\"),{backgroundColor:\"white\"});\n$3Dmol.download(\"cid:6358\", viewer_15341684397609963, {}, function() {\n\tviewer_15341684397609963.setStyle({\"sphere\": {\"scale\": 1}});\nviewer_15341684397609963.render();\n})\n});\n</script>",
            "text/html": "<div id=\"3dmolviewer_15341684397609963\"  style=\"position: relative; width: 300px; height: 300px\">\n        <p id=\"3dmolwarning_15341684397609963\" style=\"background-color:#ffcccc;color:black\">You appear to be running in JupyterLab.  You need to install the 3dmol extension: <br>\n        <tt>jupyter labextension install jupyterlab_3dmol</tt></p>\n        </div>\n<script>\n\nvar loadScriptAsync = function(uri){\n  return new Promise((resolve, reject) => {\n    var tag = document.createElement('script');\n    tag.src = uri;\n    tag.async = true;\n    tag.onload = () => {\n      resolve();\n    };\n  var firstScriptTag = document.getElementsByTagName('script')[0];\n  firstScriptTag.parentNode.insertBefore(tag, firstScriptTag);\n});\n};\n\nif(typeof $3Dmolpromise === 'undefined') {\n$3Dmolpromise = null;\n  $3Dmolpromise = loadScriptAsync('https://3dmol.csb.pitt.edu/build/3Dmol.js');\n}\n\nvar viewer_15341684397609963 = null;\nvar warn = document.getElementById(\"3dmolwarning_15341684397609963\");\nif(warn) {\n    warn.parentNode.removeChild(warn);\n}\n$3Dmolpromise.then(function() {\nviewer_15341684397609963 = $3Dmol.createViewer($(\"#3dmolviewer_15341684397609963\"),{backgroundColor:\"white\"});\n$3Dmol.download(\"cid:6358\", viewer_15341684397609963, {}, function() {\n\tviewer_15341684397609963.setStyle({\"sphere\": {\"scale\": 1}});\nviewer_15341684397609963.render();\n})\n});\n</script>"
          },
          "metadata": {},
          "output_type": "display_data"
        },
        {
          "data": {
            "text/plain": "<py3Dmol.view at 0x7f5fcae59d68>"
          },
          "execution_count": 150,
          "metadata": {},
          "output_type": "execute_result"
        }
      ]
    },
    {
      "metadata": {
        "trusted": false
      },
      "cell_type": "code",
      "source": "m=pybel.readstring( \"smi\",\"CC(Br)(C)C\" )\nm.addh()\nm",
      "execution_count": 131,
      "outputs": [
        {
          "data": {
            "image/svg+xml": "<svg xmlns=\"http://www.w3.org/2000/svg\" font-family=\"sans-serif\" height=\"100\" stroke=\"rgb(0,0,0)\" stroke-linecap=\"round\" stroke-width=\"2\" viewBox=\"0 0 229.282 194.641\" width=\"100\" x=\"0\" y=\"0\">\n<line stroke=\"rgb(0,0,0)\" stroke-width=\"2.0\" x1=\"154.6\" x2=\"114.6\" y1=\"80.0\" y2=\"80.0\" />\n<line stroke=\"rgb(0,0,0)\" stroke-width=\"2.0\" x1=\"114.6\" x2=\"114.6\" y1=\"80.0\" y2=\"53.0\" />\n<line stroke=\"rgb(0,0,0)\" stroke-width=\"2.0\" x1=\"114.6\" x2=\"74.6\" y1=\"80.0\" y2=\"80.0\" />\n<line stroke=\"rgb(0,0,0)\" stroke-width=\"2.0\" x1=\"114.6\" x2=\"114.6\" y1=\"80.0\" y2=\"120.0\" />\n<line stroke=\"rgb(0,0,0)\" stroke-width=\"2.0\" x1=\"154.6\" x2=\"178.0\" y1=\"80.0\" y2=\"66.5\" />\n<line stroke=\"rgb(0,0,0)\" stroke-width=\"2.0\" x1=\"154.6\" x2=\"154.6\" y1=\"80.0\" y2=\"53.0\" />\n<line stroke=\"rgb(0,0,0)\" stroke-width=\"2.0\" x1=\"154.6\" x2=\"168.1\" y1=\"80.0\" y2=\"103.4\" />\n<line stroke=\"rgb(0,0,0)\" stroke-width=\"2.0\" x1=\"74.6\" x2=\"51.3\" y1=\"80.0\" y2=\"93.5\" />\n<line stroke=\"rgb(0,0,0)\" stroke-width=\"2.0\" x1=\"74.6\" x2=\"74.6\" y1=\"80.0\" y2=\"107.0\" />\n<line stroke=\"rgb(0,0,0)\" stroke-width=\"2.0\" x1=\"74.6\" x2=\"61.1\" y1=\"80.0\" y2=\"56.6\" />\n<line stroke=\"rgb(0,0,0)\" stroke-width=\"2.0\" x1=\"114.6\" x2=\"128.1\" y1=\"120.0\" y2=\"143.4\" />\n<line stroke=\"rgb(0,0,0)\" stroke-width=\"2.0\" x1=\"114.6\" x2=\"141.6\" y1=\"120.0\" y2=\"120.0\" />\n<line stroke=\"rgb(0,0,0)\" stroke-width=\"2.0\" x1=\"114.6\" x2=\"91.3\" y1=\"120.0\" y2=\"133.5\" />\n<text fill=\"rgb(165,40,40)\" font-size=\"16\" stroke=\"rgb(165,40,40)\" stroke-width=\"1\" x=\"108.641016\" y=\"48.000000\">Br</text>\n<text fill=\"rgb(191,191,191)\" font-size=\"16\" stroke=\"rgb(191,191,191)\" stroke-width=\"1\" x=\"183.282032\" y=\"68.000000\">H</text>\n<text fill=\"rgb(191,191,191)\" font-size=\"16\" stroke=\"rgb(191,191,191)\" stroke-width=\"1\" x=\"148.641016\" y=\"48.000000\">H</text>\n<text fill=\"rgb(191,191,191)\" font-size=\"16\" stroke=\"rgb(191,191,191)\" stroke-width=\"1\" x=\"168.641016\" y=\"122.641016\">H</text>\n<text fill=\"rgb(191,191,191)\" font-size=\"16\" stroke=\"rgb(191,191,191)\" stroke-width=\"1\" x=\"34.000000\" y=\"108.000000\">H</text>\n<text fill=\"rgb(191,191,191)\" font-size=\"16\" stroke=\"rgb(191,191,191)\" stroke-width=\"1\" x=\"68.641016\" y=\"128.000000\">H</text>\n<text fill=\"rgb(191,191,191)\" font-size=\"16\" stroke=\"rgb(191,191,191)\" stroke-width=\"1\" x=\"48.641016\" y=\"53.358984\">H</text>\n<text fill=\"rgb(191,191,191)\" font-size=\"16\" stroke=\"rgb(191,191,191)\" stroke-width=\"1\" x=\"128.641016\" y=\"162.641016\">H</text>\n<text fill=\"rgb(191,191,191)\" font-size=\"16\" stroke=\"rgb(191,191,191)\" stroke-width=\"1\" x=\"148.641016\" y=\"128.000000\">H</text>\n<text fill=\"rgb(191,191,191)\" font-size=\"16\" stroke=\"rgb(191,191,191)\" stroke-width=\"1\" x=\"74.000000\" y=\"148.000000\">H</text>\n</svg>\n",
            "text/plain": "<pybel.Molecule at 0x7f5fcab105c0>"
          },
          "execution_count": 131,
          "metadata": {},
          "output_type": "execute_result"
        }
      ]
    },
    {
      "metadata": {
        "trusted": false
      },
      "cell_type": "code",
      "source": "x=pcp.get_compounds('CC(Br)(C)C', 'smiles')[0]\npy3Dmol.view(query='cid:{}'.format(x.cid), width=300,height=300).setStyle({'stick': {'radius': .1}, \n                                                                           'sphere': {'scale': 0.25}})\n",
      "execution_count": 151,
      "outputs": [
        {
          "data": {
            "application/3dmoljs_load.v0": "<div id=\"3dmolviewer_15341684561310673\"  style=\"position: relative; width: 300px; height: 300px\">\n        <p id=\"3dmolwarning_15341684561310673\" style=\"background-color:#ffcccc;color:black\">You appear to be running in JupyterLab.  You need to install the 3dmol extension: <br>\n        <tt>jupyter labextension install jupyterlab_3dmol</tt></p>\n        </div>\n<script>\n\nvar loadScriptAsync = function(uri){\n  return new Promise((resolve, reject) => {\n    var tag = document.createElement('script');\n    tag.src = uri;\n    tag.async = true;\n    tag.onload = () => {\n      resolve();\n    };\n  var firstScriptTag = document.getElementsByTagName('script')[0];\n  firstScriptTag.parentNode.insertBefore(tag, firstScriptTag);\n});\n};\n\nif(typeof $3Dmolpromise === 'undefined') {\n$3Dmolpromise = null;\n  $3Dmolpromise = loadScriptAsync('https://3dmol.csb.pitt.edu/build/3Dmol.js');\n}\n\nvar viewer_15341684561310673 = null;\nvar warn = document.getElementById(\"3dmolwarning_15341684561310673\");\nif(warn) {\n    warn.parentNode.removeChild(warn);\n}\n$3Dmolpromise.then(function() {\nviewer_15341684561310673 = $3Dmol.createViewer($(\"#3dmolviewer_15341684561310673\"),{backgroundColor:\"white\"});\n$3Dmol.download(\"cid:10485\", viewer_15341684561310673, {}, function() {\n\tviewer_15341684561310673.setStyle({\"sphere\": {\"scale\": 0.25}, \"stick\": {\"radius\": 0.1}});\nviewer_15341684561310673.render();\n})\n});\n</script>",
            "text/html": "<div id=\"3dmolviewer_15341684561310673\"  style=\"position: relative; width: 300px; height: 300px\">\n        <p id=\"3dmolwarning_15341684561310673\" style=\"background-color:#ffcccc;color:black\">You appear to be running in JupyterLab.  You need to install the 3dmol extension: <br>\n        <tt>jupyter labextension install jupyterlab_3dmol</tt></p>\n        </div>\n<script>\n\nvar loadScriptAsync = function(uri){\n  return new Promise((resolve, reject) => {\n    var tag = document.createElement('script');\n    tag.src = uri;\n    tag.async = true;\n    tag.onload = () => {\n      resolve();\n    };\n  var firstScriptTag = document.getElementsByTagName('script')[0];\n  firstScriptTag.parentNode.insertBefore(tag, firstScriptTag);\n});\n};\n\nif(typeof $3Dmolpromise === 'undefined') {\n$3Dmolpromise = null;\n  $3Dmolpromise = loadScriptAsync('https://3dmol.csb.pitt.edu/build/3Dmol.js');\n}\n\nvar viewer_15341684561310673 = null;\nvar warn = document.getElementById(\"3dmolwarning_15341684561310673\");\nif(warn) {\n    warn.parentNode.removeChild(warn);\n}\n$3Dmolpromise.then(function() {\nviewer_15341684561310673 = $3Dmol.createViewer($(\"#3dmolviewer_15341684561310673\"),{backgroundColor:\"white\"});\n$3Dmol.download(\"cid:10485\", viewer_15341684561310673, {}, function() {\n\tviewer_15341684561310673.setStyle({\"sphere\": {\"scale\": 0.25}, \"stick\": {\"radius\": 0.1}});\nviewer_15341684561310673.render();\n})\n});\n</script>"
          },
          "metadata": {},
          "output_type": "display_data"
        },
        {
          "data": {
            "text/plain": "<py3Dmol.view at 0x7f5fcae59240>"
          },
          "execution_count": 151,
          "metadata": {},
          "output_type": "execute_result"
        }
      ]
    },
    {
      "metadata": {},
      "cell_type": "markdown",
      "source": "The molecule 2-bromo-2-methylpropane, $\\ce{(CH3)3CBr}$ , shown in both ball-and-stick (figure above) and space-filling representations (figure below). "
    },
    {
      "metadata": {
        "trusted": false
      },
      "cell_type": "code",
      "source": "x=pcp.get_compounds('CC(Br)(C)C', 'smiles')[0]\npy3Dmol.view(query='cid:{}'.format(x.cid), width=300,height=300).setStyle({'sphere': {'scale': 1}})\n",
      "execution_count": 153,
      "outputs": [
        {
          "data": {
            "application/3dmoljs_load.v0": "<div id=\"3dmolviewer_15341684700676148\"  style=\"position: relative; width: 300px; height: 300px\">\n        <p id=\"3dmolwarning_15341684700676148\" style=\"background-color:#ffcccc;color:black\">You appear to be running in JupyterLab.  You need to install the 3dmol extension: <br>\n        <tt>jupyter labextension install jupyterlab_3dmol</tt></p>\n        </div>\n<script>\n\nvar loadScriptAsync = function(uri){\n  return new Promise((resolve, reject) => {\n    var tag = document.createElement('script');\n    tag.src = uri;\n    tag.async = true;\n    tag.onload = () => {\n      resolve();\n    };\n  var firstScriptTag = document.getElementsByTagName('script')[0];\n  firstScriptTag.parentNode.insertBefore(tag, firstScriptTag);\n});\n};\n\nif(typeof $3Dmolpromise === 'undefined') {\n$3Dmolpromise = null;\n  $3Dmolpromise = loadScriptAsync('https://3dmol.csb.pitt.edu/build/3Dmol.js');\n}\n\nvar viewer_15341684700676148 = null;\nvar warn = document.getElementById(\"3dmolwarning_15341684700676148\");\nif(warn) {\n    warn.parentNode.removeChild(warn);\n}\n$3Dmolpromise.then(function() {\nviewer_15341684700676148 = $3Dmol.createViewer($(\"#3dmolviewer_15341684700676148\"),{backgroundColor:\"white\"});\n$3Dmol.download(\"cid:10485\", viewer_15341684700676148, {}, function() {\n\tviewer_15341684700676148.setStyle({\"sphere\": {\"scale\": 1}});\nviewer_15341684700676148.render();\n})\n});\n</script>",
            "text/html": "<div id=\"3dmolviewer_15341684700676148\"  style=\"position: relative; width: 300px; height: 300px\">\n        <p id=\"3dmolwarning_15341684700676148\" style=\"background-color:#ffcccc;color:black\">You appear to be running in JupyterLab.  You need to install the 3dmol extension: <br>\n        <tt>jupyter labextension install jupyterlab_3dmol</tt></p>\n        </div>\n<script>\n\nvar loadScriptAsync = function(uri){\n  return new Promise((resolve, reject) => {\n    var tag = document.createElement('script');\n    tag.src = uri;\n    tag.async = true;\n    tag.onload = () => {\n      resolve();\n    };\n  var firstScriptTag = document.getElementsByTagName('script')[0];\n  firstScriptTag.parentNode.insertBefore(tag, firstScriptTag);\n});\n};\n\nif(typeof $3Dmolpromise === 'undefined') {\n$3Dmolpromise = null;\n  $3Dmolpromise = loadScriptAsync('https://3dmol.csb.pitt.edu/build/3Dmol.js');\n}\n\nvar viewer_15341684700676148 = null;\nvar warn = document.getElementById(\"3dmolwarning_15341684700676148\");\nif(warn) {\n    warn.parentNode.removeChild(warn);\n}\n$3Dmolpromise.then(function() {\nviewer_15341684700676148 = $3Dmol.createViewer($(\"#3dmolviewer_15341684700676148\"),{backgroundColor:\"white\"});\n$3Dmol.download(\"cid:10485\", viewer_15341684700676148, {}, function() {\n\tviewer_15341684700676148.setStyle({\"sphere\": {\"scale\": 1}});\nviewer_15341684700676148.render();\n})\n});\n</script>"
          },
          "metadata": {},
          "output_type": "display_data"
        },
        {
          "data": {
            "text/plain": "<py3Dmol.view at 0x7f5fcae67320>"
          },
          "execution_count": 153,
          "metadata": {},
          "output_type": "execute_result"
        }
      ]
    },
    {
      "metadata": {
        "scrolled": true,
        "trusted": false
      },
      "cell_type": "code",
      "source": "#Also show lookup by name\nx=pcp.get_compounds('2-bromo-2-methylpropane', 'name')[0]\nv=py3Dmol.view(query='cid:{}'.format(x.cid), width=300,height=300).setStyle({'sphere': {'scale': 1}})\nv",
      "execution_count": 30,
      "outputs": [
        {
          "data": {
            "application/3dmoljs_load.v0": "<div id=\"3dmolviewer_15341723176869185\"  style=\"position: relative; width: 300px; height: 300px\">\n        <p id=\"3dmolwarning_15341723176869185\" style=\"background-color:#ffcccc;color:black\">You appear to be running in JupyterLab.  You need to install the 3dmol extension: <br>\n        <tt>jupyter labextension install jupyterlab_3dmol</tt></p>\n        </div>\n<script>\n\nvar loadScriptAsync = function(uri){\n  return new Promise((resolve, reject) => {\n    var tag = document.createElement('script');\n    tag.src = uri;\n    tag.async = true;\n    tag.onload = () => {\n      resolve();\n    };\n  var firstScriptTag = document.getElementsByTagName('script')[0];\n  firstScriptTag.parentNode.insertBefore(tag, firstScriptTag);\n});\n};\n\nif(typeof $3Dmolpromise === 'undefined') {\n$3Dmolpromise = null;\n  $3Dmolpromise = loadScriptAsync('https://3dmol.csb.pitt.edu/build/3Dmol.js');\n}\n\nvar viewer_15341723176869185 = null;\nvar warn = document.getElementById(\"3dmolwarning_15341723176869185\");\nif(warn) {\n    warn.parentNode.removeChild(warn);\n}\n$3Dmolpromise.then(function() {\nviewer_15341723176869185 = $3Dmol.createViewer($(\"#3dmolviewer_15341723176869185\"),{backgroundColor:\"white\"});\n$3Dmol.download(\"cid:10485\", viewer_15341723176869185, {}, function() {\n\tviewer_15341723176869185.setStyle({\"sphere\": {\"scale\": 1}});\nviewer_15341723176869185.render();\n})\n});\n</script>",
            "text/html": "<div id=\"3dmolviewer_15341723176869185\"  style=\"position: relative; width: 300px; height: 300px\">\n        <p id=\"3dmolwarning_15341723176869185\" style=\"background-color:#ffcccc;color:black\">You appear to be running in JupyterLab.  You need to install the 3dmol extension: <br>\n        <tt>jupyter labextension install jupyterlab_3dmol</tt></p>\n        </div>\n<script>\n\nvar loadScriptAsync = function(uri){\n  return new Promise((resolve, reject) => {\n    var tag = document.createElement('script');\n    tag.src = uri;\n    tag.async = true;\n    tag.onload = () => {\n      resolve();\n    };\n  var firstScriptTag = document.getElementsByTagName('script')[0];\n  firstScriptTag.parentNode.insertBefore(tag, firstScriptTag);\n});\n};\n\nif(typeof $3Dmolpromise === 'undefined') {\n$3Dmolpromise = null;\n  $3Dmolpromise = loadScriptAsync('https://3dmol.csb.pitt.edu/build/3Dmol.js');\n}\n\nvar viewer_15341723176869185 = null;\nvar warn = document.getElementById(\"3dmolwarning_15341723176869185\");\nif(warn) {\n    warn.parentNode.removeChild(warn);\n}\n$3Dmolpromise.then(function() {\nviewer_15341723176869185 = $3Dmol.createViewer($(\"#3dmolviewer_15341723176869185\"),{backgroundColor:\"white\"});\n$3Dmol.download(\"cid:10485\", viewer_15341723176869185, {}, function() {\n\tviewer_15341723176869185.setStyle({\"sphere\": {\"scale\": 1}});\nviewer_15341723176869185.render();\n})\n});\n</script>"
          },
          "metadata": {},
          "output_type": "display_data"
        },
        {
          "data": {
            "text/plain": "<py3Dmol.view at 0x7f3784a7dda0>"
          },
          "execution_count": 30,
          "metadata": {},
          "output_type": "execute_result"
        }
      ]
    },
    {
      "metadata": {
        "trusted": false
      },
      "cell_type": "code",
      "source": "#We can embed a png of the current display - but not programmatically access it to save it\nv.png()",
      "execution_count": 31,
      "outputs": [
        {
          "data": {
            "application/3dmoljs_load.v0": "<img id=\"img_15341723176869185\">\n            <script>\n            var png = viewer_15341723176869185.pngURI()\n            $('#img_15341723176869185').attr('src', png)\n            </script>",
            "text/html": "<img id=\"img_15341723176869185\">\n            <script>\n            var png = viewer_15341723176869185.pngURI()\n            $('#img_15341723176869185').attr('src', png)\n            </script>"
          },
          "metadata": {},
          "output_type": "display_data"
        }
      ]
    },
    {
      "metadata": {},
      "cell_type": "markdown",
      "source": "A neater way of displaying these may be through a single widget:"
    },
    {
      "metadata": {
        "trusted": false
      },
      "cell_type": "code",
      "source": "from ipywidgets import interact\n\n@interact(molecule=['bromomethane','bromoethane', '2-bromopropane','2-bromo-2-methylpropane'])\ndef showAll(molecule='bromomethane', spaceFilling=False):\n    x=pcp.get_compounds(molecule, 'name')[0]\n    if spaceFilling: style={'sphere': {'scale': 1}}\n    else: \n        style= {'stick': {'radius': .1},'sphere': {'scale': 0.25}}\n    y= py3Dmol.view(query='cid:{}'.format(x.cid), width=300,height=300).setStyle(style)\n    return y",
      "execution_count": 162,
      "outputs": [
        {
          "data": {
            "application/vnd.jupyter.widget-view+json": {
              "model_id": "145c5efc823f441782d5ddec21565da0",
              "version_major": 2,
              "version_minor": 0
            },
            "text/plain": "interactive(children=(Dropdown(description='molecule', options=('bromomethane', 'bromoethane', '2-bromopropane…"
          },
          "metadata": {},
          "output_type": "display_data"
        }
      ]
    },
    {
      "metadata": {},
      "cell_type": "markdown",
      "source": "## Example 2\n\nhttp://www.open.edu/openlearn/science-maths-technology/science/chemistry/the-molecular-world/content-section-5.1\n\n### 5 Molecular reactivity\n#### 5.1 Molecular reactivity is concentrated at key sites\nReactivity is not spread evenly over a molecule; it tends to be concentrated at particular sites. The consequences of this idea are apparent in the chemistry of many elements. However, in organic chemistry, the idea has proved so valuable that it receives specific recognition through the concept of the functional group. Structure 6.1 shows the abbreviated structural formula of hexan-1-ol, an alcohol.\n\n$\\ce{CH3-CH2-CH2-CH2-CH2CH2-OH}$ \n\nBecause reactivity is concentrated at the $\\ce{-OH}$ site, we can, through an informed choice of other chemical reactants, change that site (and sometimes the atoms immediately adjacent to it) into something else while leaving the rest of the molecule unchanged. For example, the liquid thionyl chloride, $\\ce{SOCl2}$, will convert hexan-1-ol into 1-chlorohexane:\n\n$\\ce{CH3CH2CH2CH2CH2CH2-OH + SOCl2 =  CH3CH2CH2CH2CH2CH2-Cl + SO2 + HCl}$\n\nAn example of a change in both the functional group and its adjacent atoms is the reaction of hexan-1-ol with chromic acid, $\\ce{H2CrO4}$, which yields hexanoic acid:\n\n\n$\\ce{CH3CH2CH2CH2CH2CH2->[\\ce{H2CrO4}] CH3CH2CH2CH2CH2C(=O)-OH}$\n"
    },
    {
      "metadata": {},
      "cell_type": "markdown",
      "source": "Here, the terminal $\\ce{-CH2OH}$ fragment has been converted into the carboxylic acid functional group, $\\ce{-COOH}$, written above as $\\ce{-C(=O)-OH}$ to highlight the number of bonds. (Note that an arrow has been used in the equation above. An equals sign would be inappropriate because the equation is not balanced. This type of equation allows us to concentrate attention on the way in which one molecular fragment, $\\ce{-CH2OH}$, is transformed into another,$\\ce{-COOH}$. Organic chemists often write equations of this sort, the reagent that brings about the change appearing above the arrow.)"
    },
    {
      "metadata": {
        "trusted": false
      },
      "cell_type": "code",
      "source": "hexanoicAcid=pcp.get_compounds('hexanoic acid', 'name')[0]\nhexanoicAcid.canonical_smiles",
      "execution_count": 37,
      "outputs": [
        {
          "data": {
            "text/plain": "'CCCCCC(=O)O'"
          },
          "execution_count": 37,
          "metadata": {},
          "output_type": "execute_result"
        }
      ]
    },
    {
      "metadata": {
        "trusted": false
      },
      "cell_type": "code",
      "source": "m=pybel.readstring( \"smi\", hexanoicAcid.canonical_smiles )\nm.addh()\nm",
      "execution_count": 38,
      "outputs": [
        {
          "data": {
            "image/svg+xml": "<svg xmlns=\"http://www.w3.org/2000/svg\" font-family=\"sans-serif\" height=\"100\" stroke=\"rgb(0,0,0)\" stroke-linecap=\"round\" stroke-width=\"2\" viewBox=\"0 0 269.282 258.564\" width=\"100\" x=\"0\" y=\"0\">\n<line stroke=\"rgb(0,0,0)\" stroke-width=\"2.0\" x1=\"194.6\" x2=\"154.6\" y1=\"114.6\" y2=\"114.6\" />\n<line stroke=\"rgb(0,0,0)\" stroke-width=\"2.0\" x1=\"154.6\" x2=\"134.6\" y1=\"114.6\" y2=\"80.0\" />\n<line stroke=\"rgb(0,0,0)\" stroke-width=\"2.0\" x1=\"134.6\" x2=\"94.6\" y1=\"80.0\" y2=\"80.0\" />\n<line stroke=\"rgb(0,0,0)\" stroke-width=\"2.0\" x1=\"94.6\" x2=\"74.6\" y1=\"80.0\" y2=\"114.6\" />\n<line stroke=\"rgb(0,0,0)\" stroke-width=\"2.0\" x1=\"74.6\" x2=\"94.6\" y1=\"114.6\" y2=\"149.3\" />\n<line stroke=\"rgb(0,0,0)\" stroke-width=\"2.0\" x1=\"94.6\" x2=\"121.6\" y1=\"146.3\" y2=\"146.3\" />\n<line stroke=\"rgb(0,0,0)\" stroke-width=\"2.0\" x1=\"94.6\" x2=\"121.6\" y1=\"152.3\" y2=\"152.3\" />\n<line stroke=\"rgb(0,0,0)\" stroke-width=\"2.0\" x1=\"94.6\" x2=\"81.1\" y1=\"149.3\" y2=\"172.7\" />\n<line stroke=\"rgb(0,0,0)\" stroke-width=\"2.0\" x1=\"194.6\" x2=\"218.0\" y1=\"114.6\" y2=\"101.1\" />\n<line stroke=\"rgb(0,0,0)\" stroke-width=\"2.0\" x1=\"194.6\" x2=\"194.6\" y1=\"114.6\" y2=\"87.6\" />\n<line stroke=\"rgb(0,0,0)\" stroke-width=\"2.0\" x1=\"194.6\" x2=\"208.1\" y1=\"114.6\" y2=\"138.0\" />\n<line stroke=\"rgb(0,0,0)\" stroke-width=\"2.0\" x1=\"154.6\" x2=\"131.3\" y1=\"114.6\" y2=\"128.1\" />\n<line stroke=\"rgb(0,0,0)\" stroke-width=\"2.0\" x1=\"154.6\" x2=\"154.6\" y1=\"114.6\" y2=\"141.6\" />\n<line stroke=\"rgb(0,0,0)\" stroke-width=\"2.0\" x1=\"134.6\" x2=\"134.6\" y1=\"80.0\" y2=\"53.0\" />\n<line stroke=\"rgb(0,0,0)\" stroke-width=\"2.0\" x1=\"134.6\" x2=\"158.0\" y1=\"80.0\" y2=\"66.5\" />\n<line stroke=\"rgb(0,0,0)\" stroke-width=\"2.0\" x1=\"94.6\" x2=\"71.3\" y1=\"80.0\" y2=\"66.5\" />\n<line stroke=\"rgb(0,0,0)\" stroke-width=\"2.0\" x1=\"94.6\" x2=\"94.6\" y1=\"80.0\" y2=\"53.0\" />\n<line stroke=\"rgb(0,0,0)\" stroke-width=\"2.0\" x1=\"74.6\" x2=\"51.3\" y1=\"114.6\" y2=\"128.1\" />\n<line stroke=\"rgb(0,0,0)\" stroke-width=\"2.0\" x1=\"74.6\" x2=\"51.3\" y1=\"114.6\" y2=\"101.1\" />\n<line stroke=\"rgb(0,0,0)\" stroke-width=\"2.0\" x1=\"81.1\" x2=\"88.1\" y1=\"195.2\" y2=\"207.3\" />\n<text fill=\"rgb(191,191,191)\" font-size=\"16\" stroke=\"rgb(191,191,191)\" stroke-width=\"1\" x=\"208.641016\" y=\"157.282032\">H</text>\n<text fill=\"rgb(191,191,191)\" font-size=\"16\" stroke=\"rgb(191,191,191)\" stroke-width=\"1\" x=\"88.641016\" y=\"226.564065\">H</text>\n<text fill=\"rgb(191,191,191)\" font-size=\"16\" stroke=\"rgb(191,191,191)\" stroke-width=\"1\" x=\"34.000000\" y=\"102.641016\">H</text>\n<text fill=\"rgb(191,191,191)\" font-size=\"16\" stroke=\"rgb(191,191,191)\" stroke-width=\"1\" x=\"34.000000\" y=\"142.641016\">H</text>\n<text fill=\"rgb(191,191,191)\" font-size=\"16\" stroke=\"rgb(191,191,191)\" stroke-width=\"1\" x=\"88.641016\" y=\"48.000000\">H</text>\n<text fill=\"rgb(191,191,191)\" font-size=\"16\" stroke=\"rgb(191,191,191)\" stroke-width=\"1\" x=\"54.000000\" y=\"68.000000\">H</text>\n<text fill=\"rgb(191,191,191)\" font-size=\"16\" stroke=\"rgb(191,191,191)\" stroke-width=\"1\" x=\"163.282032\" y=\"68.000000\">H</text>\n<text fill=\"rgb(191,191,191)\" font-size=\"16\" stroke=\"rgb(191,191,191)\" stroke-width=\"1\" x=\"128.641016\" y=\"48.000000\">H</text>\n<text fill=\"rgb(191,191,191)\" font-size=\"16\" stroke=\"rgb(191,191,191)\" stroke-width=\"1\" x=\"148.641016\" y=\"162.641016\">H</text>\n<text fill=\"rgb(191,191,191)\" font-size=\"16\" stroke=\"rgb(191,191,191)\" stroke-width=\"1\" x=\"114.000000\" y=\"142.641016\">H</text>\n<text fill=\"rgb(191,191,191)\" font-size=\"16\" stroke=\"rgb(191,191,191)\" stroke-width=\"1\" x=\"188.641016\" y=\"82.641016\">H</text>\n<text fill=\"rgb(191,191,191)\" font-size=\"16\" stroke=\"rgb(191,191,191)\" stroke-width=\"1\" x=\"223.282032\" y=\"102.641016\">H</text>\n<text fill=\"rgb(255,12,12)\" font-size=\"16\" stroke=\"rgb(255,12,12)\" stroke-width=\"1\" x=\"68.641016\" y=\"191.923048\">O</text>\n<text fill=\"rgb(255,12,12)\" font-size=\"16\" stroke=\"rgb(255,12,12)\" stroke-width=\"1\" x=\"128.641016\" y=\"157.282032\">O</text>\n</svg>\n",
            "text/plain": "<pybel.Molecule at 0x7f3784ab3898>"
          },
          "execution_count": 38,
          "metadata": {},
          "output_type": "execute_result"
        }
      ]
    },
    {
      "metadata": {},
      "cell_type": "markdown",
      "source": "We can divide organic molecules into three parts: the functional groups, their immediate environment, and the rest of the molecule. To a first approximation, we expect a functional group and its immediate environment to respond to a reactant in exactly the same way whatever the rest of the molecule is like. Thus, if we write the many molecules containing an alcohol functional group as $\\ce{R-OH}$ the general form of Reaction 6.1 becomes\n\n$\\ce{R-OH->[\\ce{SOCl2}] R-Cl}$\n"
    },
    {
      "metadata": {},
      "cell_type": "markdown",
      "source": "...\n\nSubsequently, Alfred developed the safer dynamites, first by absorbing nitroglycerine with the clay, kieselguhr (guhr dynamite), and then by mixing it with nitrocellulose to form a gel (gelatin dynamite). A mixture of nitrocellulose and nitroglycerine called cordite was the propellant that launched shells from the guns of Royal Navy battleships in both World Wars.\n\nWhen the hydrocarbons in petrol burn, they acquire the necessary oxygen from the air. High explosives carry their own oxygen, usually in the form of $\\ce{-NO2}$ groups, which are bound either to oxygen in nitrate esters, or to nitrogen as in RDX, or to carbon as in TNT (structure below)."
    },
    {
      "metadata": {
        "trusted": false
      },
      "cell_type": "code",
      "source": "TNT=pcp.get_compounds('TNT', 'name')[0]\nm=pybel.readstring( \"smi\", TNT.canonical_smiles )\nm.addh()\nm",
      "execution_count": 44,
      "outputs": [
        {
          "data": {
            "image/svg+xml": "<svg xmlns=\"http://www.w3.org/2000/svg\" font-family=\"sans-serif\" height=\"100\" stroke=\"rgb(0,0,0)\" stroke-linecap=\"round\" stroke-width=\"2\" viewBox=\"0 0 287.846 294.641\" width=\"100\" x=\"0\" y=\"0\">\n<line stroke=\"rgb(0,0,0)\" stroke-width=\"2.0\" x1=\"143.9\" x2=\"143.9\" y1=\"220.0\" y2=\"180.0\" />\n<line stroke=\"rgb(0,0,0)\" stroke-width=\"2.0\" x1=\"178.6\" x2=\"201.9\" y1=\"160.0\" y2=\"173.5\" />\n<line stroke=\"rgb(0,0,0)\" stroke-width=\"2.0\" x1=\"216.2\" x2=\"216.2\" y1=\"193.0\" y2=\"207.0\" />\n<line stroke=\"rgb(0,0,0)\" stroke-width=\"2.0\" x1=\"210.2\" x2=\"210.2\" y1=\"193.0\" y2=\"207.0\" />\n<line stroke=\"rgb(0,0,0)\" stroke-width=\"2.0\" x1=\"224.5\" x2=\"236.6\" y1=\"173.5\" y2=\"166.5\" />\n<line stroke=\"rgb(0,0,0)\" stroke-width=\"2.0\" x1=\"143.9\" x2=\"143.9\" y1=\"100.0\" y2=\"73.0\" />\n<line stroke=\"rgb(0,0,0)\" stroke-width=\"2.0\" x1=\"153.7\" x2=\"165.8\" y1=\"50.9\" y2=\"43.9\" />\n<line stroke=\"rgb(0,0,0)\" stroke-width=\"2.0\" x1=\"156.7\" x2=\"168.8\" y1=\"56.1\" y2=\"49.1\" />\n<line stroke=\"rgb(0,0,0)\" stroke-width=\"2.0\" x1=\"132.7\" x2=\"120.5\" y1=\"53.5\" y2=\"46.5\" />\n<line stroke=\"rgb(0,0,0)\" stroke-width=\"2.0\" x1=\"109.3\" x2=\"85.9\" y1=\"160.0\" y2=\"173.5\" />\n<line stroke=\"rgb(0,0,0)\" stroke-width=\"2.0\" x1=\"61.9\" x2=\"49.8\" y1=\"176.1\" y2=\"169.1\" />\n<line stroke=\"rgb(0,0,0)\" stroke-width=\"2.0\" x1=\"64.9\" x2=\"52.8\" y1=\"170.9\" y2=\"163.9\" />\n<line stroke=\"rgb(0,0,0)\" stroke-width=\"2.0\" x1=\"74.6\" x2=\"74.6\" y1=\"193.0\" y2=\"207.0\" />\n<line stroke=\"rgb(0,0,0)\" stroke-width=\"2.0\" x1=\"143.9\" x2=\"157.4\" y1=\"220.0\" y2=\"243.4\" />\n<line stroke=\"rgb(0,0,0)\" stroke-width=\"2.0\" x1=\"143.9\" x2=\"170.9\" y1=\"220.0\" y2=\"220.0\" />\n<line stroke=\"rgb(0,0,0)\" stroke-width=\"2.0\" x1=\"143.9\" x2=\"120.5\" y1=\"220.0\" y2=\"233.5\" />\n<line stroke=\"rgb(0,0,0)\" stroke-width=\"2.0\" x1=\"109.3\" x2=\"85.9\" y1=\"120.0\" y2=\"106.5\" />\n<line stroke=\"rgb(0,0,0)\" stroke-width=\"2.0\" x1=\"178.6\" x2=\"201.9\" y1=\"120.0\" y2=\"106.5\" />\n<line stroke=\"rgb(0,0,0)\" stroke-width=\"2.0\" x1=\"109.3\" x2=\"143.9\" y1=\"120.0\" y2=\"100.0\" />\n<line stroke=\"rgb(0,0,0)\" stroke-width=\"2.0\" x1=\"118.1\" x2=\"142.3\" y1=\"123.2\" y2=\"109.2\" />\n<line stroke=\"rgb(0,0,0)\" stroke-width=\"2.0\" x1=\"143.9\" x2=\"178.6\" y1=\"100.0\" y2=\"120.0\" />\n<line stroke=\"rgb(0,0,0)\" stroke-width=\"2.0\" x1=\"178.6\" x2=\"178.6\" y1=\"120.0\" y2=\"160.0\" />\n<line stroke=\"rgb(0,0,0)\" stroke-width=\"2.0\" x1=\"171.4\" x2=\"171.4\" y1=\"126.0\" y2=\"154.0\" />\n<line stroke=\"rgb(0,0,0)\" stroke-width=\"2.0\" x1=\"178.6\" x2=\"143.9\" y1=\"160.0\" y2=\"180.0\" />\n<line stroke=\"rgb(0,0,0)\" stroke-width=\"2.0\" x1=\"143.9\" x2=\"109.3\" y1=\"180.0\" y2=\"160.0\" />\n<line stroke=\"rgb(0,0,0)\" stroke-width=\"2.0\" x1=\"142.3\" x2=\"118.1\" y1=\"170.8\" y2=\"156.8\" />\n<line stroke=\"rgb(0,0,0)\" stroke-width=\"2.0\" x1=\"109.3\" x2=\"109.3\" y1=\"160.0\" y2=\"120.0\" />\n<text fill=\"rgb(12,12,255)\" font-size=\"16\" stroke=\"rgb(12,12,255)\" stroke-width=\"1\" x=\"148.723048\" y=\"55.968000\">+</text>\n<text fill=\"rgb(12,12,255)\" font-size=\"16\" stroke=\"rgb(12,12,255)\" stroke-width=\"1\" x=\"137.923048\" y=\"68.000000\">N</text>\n<text fill=\"rgb(191,191,191)\" font-size=\"16\" stroke=\"rgb(191,191,191)\" stroke-width=\"1\" x=\"207.205081\" y=\"108.000000\">H</text>\n<text fill=\"rgb(191,191,191)\" font-size=\"16\" stroke=\"rgb(191,191,191)\" stroke-width=\"1\" x=\"68.641016\" y=\"108.000000\">H</text>\n<text fill=\"rgb(191,191,191)\" font-size=\"16\" stroke=\"rgb(191,191,191)\" stroke-width=\"1\" x=\"103.282032\" y=\"248.000000\">H</text>\n<text fill=\"rgb(191,191,191)\" font-size=\"16\" stroke=\"rgb(191,191,191)\" stroke-width=\"1\" x=\"177.923048\" y=\"228.000000\">H</text>\n<text fill=\"rgb(191,191,191)\" font-size=\"16\" stroke=\"rgb(191,191,191)\" stroke-width=\"1\" x=\"157.923048\" y=\"262.641016\">H</text>\n<text fill=\"rgb(255,12,12)\" font-size=\"16\" stroke=\"rgb(255,12,12)\" stroke-width=\"1\" x=\"79.441016\" y=\"205.888000\">_</text>\n<text fill=\"rgb(255,12,12)\" font-size=\"16\" stroke=\"rgb(255,12,12)\" stroke-width=\"1\" x=\"68.641016\" y=\"228.000000\">O</text>\n<text fill=\"rgb(255,12,12)\" font-size=\"16\" stroke=\"rgb(255,12,12)\" stroke-width=\"1\" x=\"34.000000\" y=\"168.000000\">O</text>\n<text fill=\"rgb(12,12,255)\" font-size=\"16\" stroke=\"rgb(12,12,255)\" stroke-width=\"1\" x=\"79.441016\" y=\"175.968000\">+</text>\n<text fill=\"rgb(12,12,255)\" font-size=\"16\" stroke=\"rgb(12,12,255)\" stroke-width=\"1\" x=\"68.641016\" y=\"188.000000\">N</text>\n<text fill=\"rgb(255,12,12)\" font-size=\"16\" stroke=\"rgb(255,12,12)\" stroke-width=\"1\" x=\"114.082032\" y=\"25.888000\">_</text>\n<text fill=\"rgb(255,12,12)\" font-size=\"16\" stroke=\"rgb(255,12,12)\" stroke-width=\"1\" x=\"103.282032\" y=\"48.000000\">O</text>\n<text fill=\"rgb(255,12,12)\" font-size=\"16\" stroke=\"rgb(255,12,12)\" stroke-width=\"1\" x=\"172.564065\" y=\"48.000000\">O</text>\n<text fill=\"rgb(255,12,12)\" font-size=\"16\" stroke=\"rgb(255,12,12)\" stroke-width=\"1\" x=\"252.646097\" y=\"145.888000\">_</text>\n<text fill=\"rgb(255,12,12)\" font-size=\"16\" stroke=\"rgb(255,12,12)\" stroke-width=\"1\" x=\"241.846097\" y=\"168.000000\">O</text>\n<text fill=\"rgb(255,12,12)\" font-size=\"16\" stroke=\"rgb(255,12,12)\" stroke-width=\"1\" x=\"207.205081\" y=\"228.000000\">O</text>\n<text fill=\"rgb(12,12,255)\" font-size=\"16\" stroke=\"rgb(12,12,255)\" stroke-width=\"1\" x=\"218.005081\" y=\"175.968000\">+</text>\n<text fill=\"rgb(12,12,255)\" font-size=\"16\" stroke=\"rgb(12,12,255)\" stroke-width=\"1\" x=\"207.205081\" y=\"188.000000\">N</text>\n</svg>\n",
            "text/plain": "<pybel.Molecule at 0x7f3783f8d780>"
          },
          "execution_count": 44,
          "metadata": {},
          "output_type": "execute_result"
        }
      ]
    },
    {
      "metadata": {},
      "cell_type": "markdown",
      "source": "In a typical explosion, this oxygen converts the carbon-hydrogen skeleton to steam and oxides of carbon, leaving nitrogen as $\\ce{N2}$ molecules. The heat liberated raises the temperature of the products to about 4000°C. Thus, for PETN:\n\n$\\ce{C(CH2ONO2)4(s) = 2CO(g) + 3CO2(g) + 4H2O(g) + 2N2(g)}$"
    },
    {
      "metadata": {
        "trusted": false
      },
      "cell_type": "code",
      "source": "",
      "execution_count": null,
      "outputs": []
    }
  ],
  "metadata": {
    "kernelspec": {
      "name": "python3",
      "display_name": "Python 3",
      "language": "python"
    },
    "language_info": {
      "mimetype": "text/x-python",
      "nbconvert_exporter": "python",
      "name": "python",
      "file_extension": ".py",
      "version": "3.5.4",
      "pygments_lexer": "ipython3",
      "codemirror_mode": {
        "version": 3,
        "name": "ipython"
      }
    }
  },
  "nbformat": 4,
  "nbformat_minor": 2
}